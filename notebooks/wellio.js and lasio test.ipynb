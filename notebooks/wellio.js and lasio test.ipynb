{
 "cells": [
  {
   "cell_type": "markdown",
   "metadata": {},
   "source": [
    "### Idea Working Towards:\n",
    "- Load well with LASIO\n",
    "- Export LASIO style JSON\n",
    "- CONVERT LASIO style JSON to WELLIO style JSON\n",
    "- Visualize with wellioviz"
   ]
  },
  {
   "cell_type": "markdown",
   "metadata": {},
   "source": [
    "#### Note !! \n",
    "Node variables don't seem to be re-initializable once they are defined via pixiedust_node.\n",
    "\n",
    "To work-around this:\n",
    "when needing to reset a node variable, restart the Jupyter Kernal."
   ]
  },
  {
   "cell_type": "code",
   "execution_count": null,
   "metadata": {
    "scrolled": true
   },
   "outputs": [],
   "source": [
    "import json\n",
    "import lasio\n",
    "import numpy as np\n",
    "from datetime import datetime"
   ]
  },
  {
   "cell_type": "markdown",
   "metadata": {
    "raw_mimetype": "text/markdown"
   },
   "source": [
    "#### Pixiedust node module enables running Node.js code in Jupyter.\n",
    "https://github.com/pixiedust/pixiedust_node"
   ]
  },
  {
   "cell_type": "code",
   "execution_count": null,
   "metadata": {},
   "outputs": [],
   "source": [
    "import pixiedust_node"
   ]
  },
  {
   "cell_type": "markdown",
   "metadata": {},
   "source": [
    "#### Install wellio and wellioviz if not already installed."
   ]
  },
  {
   "cell_type": "code",
   "execution_count": null,
   "metadata": {},
   "outputs": [],
   "source": [
    "%%node\n",
    "var install_wellio = 0;\n",
    "try {\n",
    "    require.resolve('wellio');    \n",
    "} catch (e) {\n",
    "    if (e.code === 'MODULE_NOT_FOUND') {\n",
    "        console.log(\"Will install Wellio.js\")\n",
    "        install_wellio = 1;\n",
    "    } else {\n",
    "        console.log(e);\n",
    "        install_wellio = 1;\n",
    "    }\n",
    "}"
   ]
  },
  {
   "cell_type": "code",
   "execution_count": null,
   "metadata": {},
   "outputs": [],
   "source": [
    "if install_wellio:\n",
    "    npm.install('wellio')\n",
    "    require.resolve('wellio')"
   ]
  },
  {
   "cell_type": "code",
   "execution_count": null,
   "metadata": {},
   "outputs": [],
   "source": [
    "%%node\n",
    "var install_wellioviz = 0;\n",
    "try {\n",
    "    require.resolve('wellioviz');    \n",
    "} catch (e) {\n",
    "    if (e.code === 'MODULE_NOT_FOUND') {\n",
    "        console.log(\"Will install Wellioviz.js\");\n",
    "        install_wellioviz = 1;\n",
    "    } else {\n",
    "        console.log(e);\n",
    "        install_wellioviz = 1;\n",
    "    }\n",
    "}"
   ]
  },
  {
   "cell_type": "code",
   "execution_count": null,
   "metadata": {},
   "outputs": [],
   "source": [
    "if install_wellioviz:\n",
    "    npm.install('wellioviz')"
   ]
  },
  {
   "cell_type": "code",
   "execution_count": null,
   "metadata": {},
   "outputs": [],
   "source": [
    "%%node\n",
    "var wellio = null;\n",
    "var wellioviz = null;\n",
    "\n",
    "try {\n",
    "    wellio = require('wellio');\n",
    "    wellioviz = require('wellioviz');\n",
    "} catch (err) {\n",
    "    console.log(err);\n",
    "}"
   ]
  },
  {
   "cell_type": "markdown",
   "metadata": {},
   "source": [
    "#### Create a las file via lasio and translate it to json."
   ]
  },
  {
   "cell_type": "code",
   "execution_count": null,
   "metadata": {},
   "outputs": [],
   "source": [
    "las = lasio.LASFile()\n",
    "\n",
    "las.well.DATE = datetime.today().strftime('%Y-%m-%d %H:%M:%S')\n",
    "las.params['ENG'] = lasio.HeaderItem('ENG', value='Kent Inverarity')\n",
    "las.params['LMF'] = lasio.HeaderItem('LMF', value='GL')\n",
    "las.other = 'Example of how to create a LAS file from scratch using lasio'\n",
    "depths = np.arange(10, 50, 0.5)\n",
    "synth = np.log10(depths)*5+np.random.random(len(depths))\n",
    "synth[:8] = np.nan\n",
    "las.add_curve('DEPT', depths, unit='m')\n",
    "las.add_curve('SYNTH', synth, descr='fake data')\n",
    "las.write('scratch_v2.las', version=2)\n",
    "json_images = json.dumps(las, cls=lasio.JSONEncoder)"
   ]
  },
  {
   "cell_type": "markdown",
   "metadata": {},
   "source": [
    "#### Example 1: Read the in-memory Lasio json string into Wellio json"
   ]
  },
  {
   "cell_type": "code",
   "execution_count": null,
   "metadata": {},
   "outputs": [],
   "source": [
    "%%node\n",
    "var wellio_obj = '';\n",
    "\n",
    "try {\n",
    "    let lasio_obj = '';\n",
    "    lasio_obj = JSON.parse(json_images);\n",
    "    wellio_obj = wellio.lasio_obj_2_wellio_obj(lasio_obj);\n",
    "} catch (e) {\n",
    "    console.log('[');\n",
    "    console.log(e.name + \":: \" + e.message);\n",
    "    console.log(']');\n",
    "}\n",
    "\n",
    "console.log(wellio_obj);\n",
    "\n"
   ]
  },
  {
   "cell_type": "markdown",
   "metadata": {},
   "source": [
    "#### Introduce wellioviz and pass the wellio_obj to wellioviz"
   ]
  },
  {
   "cell_type": "code",
   "execution_count": null,
   "metadata": {},
   "outputs": [],
   "source": [
    "%%node\n",
    "console.log(wellioviz.define_wellioviz());"
   ]
  },
  {
   "cell_type": "code",
   "execution_count": null,
   "metadata": {
    "scrolled": false
   },
   "outputs": [],
   "source": [
    "%%node\n",
    "let three_things = wellioviz.fromJSONofWEllGetThingsForPlotting(wellio_obj,\"DEPT\");\n",
    "console.log(three_things);"
   ]
  },
  {
   "cell_type": "markdown",
   "metadata": {
    "raw_mimetype": "text/markdown"
   },
   "source": [
    "#### Example 2: Write Lasio json to file, then get current path and read the created json file into wellio json"
   ]
  },
  {
   "cell_type": "code",
   "execution_count": null,
   "metadata": {},
   "outputs": [],
   "source": [
    "las_json_dict =json.loads(json_images)\n",
    "with open('data.json', 'w') as outfile:\n",
    "    json.dump(las_json_dict, outfile)"
   ]
  },
  {
   "cell_type": "code",
   "execution_count": null,
   "metadata": {
    "scrolled": false
   },
   "outputs": [],
   "source": [
    "%%node\n",
    "const path = require('path');\n",
    "let mydir = process.env.PWD;\n",
    "let myfile = mydir + path.sep + 'data.json';\n",
    "\n",
    "let lasio_json_str = '';\n",
    "let lasio_obj_2 = '';\n",
    "let wellio_obj_2 = '';\n",
    "\n",
    "try {\n",
    "    lasio_json_str = wellio.read_lasio_json_file(myfile);\n",
    "    lasio_obj_2 = JSON.parse(lasio_json_str);\n",
    "    wellio_obj_2 = wellio.lasio_obj_2_wellio_obj(lasio_obj_2);\n",
    "} catch (e) {\n",
    "    console.log('[');\n",
    "    console.log(e.name + \":: \" + e.message);\n",
    "    console.log(']');\n",
    "}\n",
    "\n",
    "console.log(wellio_obj_2);\n"
   ]
  },
  {
   "cell_type": "markdown",
   "metadata": {},
   "source": [
    "#### Example 3: Read created Lasio Las file"
   ]
  },
  {
   "cell_type": "code",
   "execution_count": null,
   "metadata": {},
   "outputs": [],
   "source": [
    "%%node\n",
    "three_things_2 = wellioviz.fromJSONofWEllGetThingsForPlotting(wellio_obj,\"DEPT\");\n",
    "console.log(three_things_2);"
   ]
  },
  {
   "cell_type": "code",
   "execution_count": null,
   "metadata": {},
   "outputs": [],
   "source": [
    "%%node\n",
    "const path = require('path');\n",
    "let mydir_3 = process.env.PWD;\n",
    "let myfile_3 = mydir + path.sep + 'scratch_v2.las';\n",
    "\n",
    "let las_str_3 = '';\n",
    "let wellio_obj_3 = '';\n",
    "\n",
    "try {\n",
    "    las_str_3 = wellio.loadLAS(myfile_3);\n",
    "\n",
    "    wellio_obj_3 = wellio.las2json(las_str_3);\n",
    "} catch (e) {\n",
    "    console.log('[');\n",
    "    console.log(e.name + \":: \" + e.message);\n",
    "    console.log(']');\n",
    "}\n",
    "console.log(wellio_obj_3);\n",
    "\n"
   ]
  },
  {
   "cell_type": "code",
   "execution_count": null,
   "metadata": {},
   "outputs": [],
   "source": [
    "%%node\n",
    "three_things_3 = wellioviz.fromJSONofWEllGetThingsForPlotting(wellio_obj,\"DEPT\");\n",
    "console.log(three_things_3);"
   ]
  }
 ],
 "metadata": {
  "celltoolbar": "Raw Cell Format",
  "kernelspec": {
   "display_name": "Python 3",
   "language": "python",
   "name": "python3"
  },
  "language_info": {
   "codemirror_mode": {
    "name": "ipython",
    "version": 3
   },
   "file_extension": ".py",
   "mimetype": "text/x-python",
   "name": "python",
   "nbconvert_exporter": "python",
   "pygments_lexer": "ipython3",
   "version": "3.7.7"
  }
 },
 "nbformat": 4,
 "nbformat_minor": 4
}
