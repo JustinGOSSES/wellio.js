{
 "cells": [
  {
   "cell_type": "markdown",
   "metadata": {},
   "source": [
    "### Idea Working Towards:\n",
    "- Load well with LASIO\n",
    "- Export LASIO style JSON\n",
    "- CONVERT LASIO style JSON to WELLIO style JSON\n",
    "- Visualize with wellioviz"
   ]
  },
  {
   "cell_type": "code",
   "execution_count": 24,
   "metadata": {},
   "outputs": [],
   "source": [
    "import json"
   ]
  },
  {
   "cell_type": "code",
   "execution_count": 4,
   "metadata": {},
   "outputs": [],
   "source": [
    "#!pip install matplotlib\n",
    "##!pip install pixiedust_node"
   ]
  },
  {
   "cell_type": "markdown",
   "metadata": {},
   "source": [
    "ABOUT PIXIEDUST NODE\n",
    "WHICH LETS YOU RUN NODE.js CODE IN JUPYTER\n",
    "https://github.com/pixiedust/pixiedust_node"
   ]
  },
  {
   "cell_type": "code",
   "execution_count": 6,
   "metadata": {},
   "outputs": [
    {
     "name": "stdout",
     "output_type": "stream",
     "text": [
      "Pixiedust database opened successfully\n"
     ]
    },
    {
     "data": {
      "text/html": [
       "\n",
       "        <div style=\"margin:10px\">\n",
       "            <a href=\"https://github.com/ibm-watson-data-lab/pixiedust\" target=\"_new\">\n",
       "                <img src=\"https://github.com/ibm-watson-data-lab/pixiedust/raw/master/docs/_static/pd_icon32.png\" style=\"float:left;margin-right:10px\"/>\n",
       "            </a>\n",
       "            <span>Pixiedust version 1.1.18</span>\n",
       "        </div>\n",
       "        "
      ],
      "text/plain": [
       "<IPython.core.display.HTML object>"
      ]
     },
     "metadata": {},
     "output_type": "display_data"
    },
    {
     "data": {
      "text/html": [
       "\n",
       "            <div style=\"margin:10px\"> \n",
       "            <a href=\"https://github.com/ibm-cds-labs/pixiedust_node\" target=\"_new\"> \n",
       "            <img src=\"https://github.com/ibm-cds-labs/pixiedust_node/raw/master/docs/_images/pdn_icon32.png\" style=\"float:left;margin-right:10px\"/> \n",
       "            </a> \n",
       "            <span>Pixiedust Node.js</span> \n",
       "            </div> \n"
      ],
      "text/plain": [
       "<IPython.core.display.HTML object>"
      ]
     },
     "metadata": {},
     "output_type": "display_data"
    }
   ],
   "source": [
    "import pixiedust_node"
   ]
  },
  {
   "cell_type": "code",
   "execution_count": 13,
   "metadata": {},
   "outputs": [],
   "source": [
    "%%node\n",
    "//// THIS IS A JavaScript CELL\n",
    "var str1 = \"hello world\";\n",
    "var n1 = 4.1515;\n",
    "var n2 = 42;\n",
    "var tf = true;\n",
    "var obj = { name:\"Frank\", age: 42 };\n",
    "var array_of_strings = [\"hello\", \"world\"];\n",
    "var array_of_objects = [{a:1,b:2}, {a:3, b:4}];"
   ]
  },
  {
   "cell_type": "code",
   "execution_count": 14,
   "metadata": {},
   "outputs": [
    {
     "name": "stdout",
     "output_type": "stream",
     "text": [
      "hello world 4.1515 42 True\n",
      "{'name': 'Frank', 'age': 42}\n",
      "['hello', 'world']\n",
      "[{'a': 1, 'b': 2}, {'a': 3, 'b': 4}]\n"
     ]
    }
   ],
   "source": [
    "#### THIS IS A PYTHON CELL\n",
    "print(str1, n1, n2, tf)\n",
    "print(obj)\n",
    "print(array_of_strings)\n",
    "print(array_of_objects)"
   ]
  },
  {
   "cell_type": "markdown",
   "metadata": {},
   "source": [
    "Geting wellio.js"
   ]
  },
  {
   "cell_type": "code",
   "execution_count": 7,
   "metadata": {},
   "outputs": [
    {
     "name": "stdout",
     "output_type": "stream",
     "text": [
      "/usr/bin/npm install -s wellio\n",
      "pixiedust_node 0.2.5 started. Cells starting '%%node' may contain Node.js code.\n",
      "+ wellio@0.1.6\n",
      "updated 1 package and audited 209 packages in 1.29s\n",
      "found 0 vulnerabilities\n"
     ]
    }
   ],
   "source": [
    "npm.install('wellio')"
   ]
  },
  {
   "cell_type": "code",
   "execution_count": 8,
   "metadata": {},
   "outputs": [],
   "source": [
    "%%node\n",
    "var wellio = require('wellio');"
   ]
  },
  {
   "cell_type": "markdown",
   "metadata": {},
   "source": [
    "test of wellio"
   ]
  },
  {
   "cell_type": "code",
   "execution_count": 9,
   "metadata": {},
   "outputs": [
    {
     "name": "stdout",
     "output_type": "stream",
     "text": [
      "asdfa\n"
     ]
    }
   ],
   "source": [
    "%%node\n",
    "console.log(wellio.returnThing(\"asdfa\"))"
   ]
  },
  {
   "cell_type": "markdown",
   "metadata": {},
   "source": [
    "Now lets get lasio"
   ]
  },
  {
   "cell_type": "code",
   "execution_count": 15,
   "metadata": {},
   "outputs": [],
   "source": [
    "#!pip install lasio"
   ]
  },
  {
   "cell_type": "code",
   "execution_count": 16,
   "metadata": {},
   "outputs": [],
   "source": [
    "import lasio"
   ]
  },
  {
   "cell_type": "code",
   "execution_count": 17,
   "metadata": {},
   "outputs": [],
   "source": [
    "import numpy as np\n",
    "from datetime import datetime"
   ]
  },
  {
   "cell_type": "code",
   "execution_count": 18,
   "metadata": {},
   "outputs": [
    {
     "data": {
      "text/plain": [
       "'2020-02-15 22:40:00'"
      ]
     },
     "execution_count": 18,
     "metadata": {},
     "output_type": "execute_result"
    }
   ],
   "source": [
    "datetime.today().strftime('%Y-%m-%d %H:%M:%S')"
   ]
  },
  {
   "cell_type": "code",
   "execution_count": 19,
   "metadata": {},
   "outputs": [],
   "source": [
    "las = lasio.LASFile()\n",
    "\n",
    "las.well.DATE = datetime.today().strftime('%Y-%m-%d %H:%M:%S')\n",
    "las.params['ENG'] = lasio.HeaderItem('ENG', value='Kent Inverarity')\n",
    "las.params['LMF'] = lasio.HeaderItem('LMF', value='GL')\n",
    "las.other = 'Example of how to create a LAS file from scratch using lasio'\n",
    "depths = np.arange(10, 50, 0.5)\n",
    "synth = np.log10(depths)*5+np.random.random(len(depths))\n",
    "synth[:8] = np.nan\n",
    "las.add_curve('DEPT', depths, unit='m')\n",
    "las.add_curve('SYNTH', synth, descr='fake data')\n",
    "las.write('scratch_v1.2.las', version=1.2)\n",
    "las.write('scratch_v2.las', version=2)"
   ]
  },
  {
   "cell_type": "code",
   "execution_count": 20,
   "metadata": {},
   "outputs": [
    {
     "data": {
      "text/plain": [
       "<lasio.las.LASFile at 0x793b06063150>"
      ]
     },
     "execution_count": 20,
     "metadata": {},
     "output_type": "execute_result"
    }
   ],
   "source": [
    "las"
   ]
  },
  {
   "cell_type": "code",
   "execution_count": 21,
   "metadata": {},
   "outputs": [
    {
     "data": {
      "text/plain": [
       "[CurveItem(mnemonic=DEPT, unit=m, value=, descr=, original_mnemonic=DEPT, data.shape=(80,)),\n",
       " CurveItem(mnemonic=SYNTH, unit=, value=, descr=fake data, original_mnemonic=SYNTH, data.shape=(80,))]"
      ]
     },
     "execution_count": 21,
     "metadata": {},
     "output_type": "execute_result"
    }
   ],
   "source": [
    "las.curves"
   ]
  },
  {
   "cell_type": "code",
   "execution_count": 25,
   "metadata": {},
   "outputs": [],
   "source": [
    "json_images = json.dumps(las, cls=lasio.JSONEncoder)"
   ]
  },
  {
   "cell_type": "code",
   "execution_count": 26,
   "metadata": {},
   "outputs": [
    {
     "data": {
      "text/plain": [
       "'{\"metadata\": {\"Version\": [{}, {}, {}], \"Well\": [{}, {}, {}, {}, {}, {}, {}, {}, {}, {}, {}, {}, {}, {}, {}, {}], \"Curves\": [{}, {}], \"Parameter\": [{}, {}], \"Other\": \"Example of how to create a LAS file from scratch using lasio\"}, \"data\": {\"DEPT\": [10.0, 10.5, 11.0, 11.5, 12.0, 12.5, 13.0, 13.5, 14.0, 14.5, 15.0, 15.5, 16.0, 16.5, 17.0, 17.5, 18.0, 18.5, 19.0, 19.5, 20.0, 20.5, 21.0, 21.5, 22.0, 22.5, 23.0, 23.5, 24.0, 24.5, 25.0, 25.5, 26.0, 26.5, 27.0, 27.5, 28.0, 28.5, 29.0, 29.5, 30.0, 30.5, 31.0, 31.5, 32.0, 32.5, 33.0, 33.5, 34.0, 34.5, 35.0, 35.5, 36.0, 36.5, 37.0, 37.5, 38.0, 38.5, 39.0, 39.5, 40.0, 40.5, 41.0, 41.5, 42.0, 42.5, 43.0, 43.5, 44.0, 44.5, 45.0, 45.5, 46.0, 46.5, 47.0, 47.5, 48.0, 48.5, 49.0, 49.5], \"SYNTH\": [NaN, NaN, NaN, NaN, NaN, NaN, NaN, NaN, 6.341544096786395, 6.567376614285353, 6.245335149382308, 6.448556279813931, 6.671890205581146, 6.241101400309921, 6.981955840011141, 6.646269547490197, 6.790654415948515, 6.6091616918326475, 7.173010371410631, 6.811622218230796, 6.890465832172988, 7.0535249846132855, 7.361931891331566, 6.693178378819868, 7.605120367528102, 7.732799573865176, 7.40152344206533, 7.163497594942044, 7.306518362183579, 7.400191123369227, 7.751502570825318, 7.58350508423466, 8.062715135773072, 7.768055151809783, 7.676799260833338, 7.329963161188244, 7.823819152089372, 7.307283495771522, 7.575180644319641, 7.968657820808859, 8.367971800012315, 8.099289114878758, 8.393248592829496, 7.711721141454515, 8.281078491781527, 8.399672509500993, 8.197375942598493, 7.829566613143262, 8.331519290158933, 8.299569899386182, 7.790240700172967, 8.07519112162724, 8.617784299500965, 7.845330674426478, 7.979620932454858, 8.48372992189894, 8.34304852702582, 7.99667437137958, 8.697517773266298, 8.452633426824365, 8.84859917377995, 9.00989950089456, 8.076726800845867, 8.502751635985858, 9.010564606010067, 8.241196492740615, 8.61726814939012, 9.136192060302577, 8.738763055016003, 8.24212513744557, 8.375110724359176, 8.345997038645743, 8.907738235510235, 8.856408484021149, 9.263616442923768, 8.668972602567166, 8.596983317193759, 8.688906571513861, 8.518874031884112, 8.99371428274461]}}'"
      ]
     },
     "execution_count": 26,
     "metadata": {},
     "output_type": "execute_result"
    }
   ],
   "source": [
    "json_images"
   ]
  },
  {
   "cell_type": "code",
   "execution_count": 27,
   "metadata": {},
   "outputs": [],
   "source": [
    "las_json_dict =json.loads(json_images)"
   ]
  },
  {
   "cell_type": "code",
   "execution_count": 28,
   "metadata": {},
   "outputs": [],
   "source": [
    "with open('data.json', 'w') as outfile:\n",
    "    json.dump(las_json_dict, outfile)"
   ]
  },
  {
   "cell_type": "code",
   "execution_count": 29,
   "metadata": {},
   "outputs": [
    {
     "name": "stdout",
     "output_type": "stream",
     "text": [
      "data.json  scratch_v1.2.las  Untitled1.ipynb  wellio.js and lasio test.ipynb\r\n",
      "LICENSE    scratch_v2.las    Untitled.ipynb\r\n"
     ]
    }
   ],
   "source": [
    "!ls"
   ]
  },
  {
   "cell_type": "code",
   "execution_count": 30,
   "metadata": {},
   "outputs": [
    {
     "name": "stdout",
     "output_type": "stream",
     "text": [
      "Thrown:\n",
      "{ Error: ENOENT: no such file or directory, open 'data.json'\n",
      "at Object.openSync (fs.js:443:3)\n",
      "at Object.readFileSync (fs.js:343:35)\n",
      "at Object.read_json (/home/jgosses82/node/node_modules/wellio/dist/index.js:17:28) errno: -2, syscall: 'open', code: 'ENOENT', path: 'data.json' }\n"
     ]
    }
   ],
   "source": [
    "%%node\n",
    "wellio.read_json('data.json')"
   ]
  },
  {
   "cell_type": "code",
   "execution_count": 35,
   "metadata": {},
   "outputs": [],
   "source": [
    "%%node\n",
    "var fs = require('fs');"
   ]
  },
  {
   "cell_type": "code",
   "execution_count": 48,
   "metadata": {},
   "outputs": [],
   "source": [
    "%%node\n",
    "var lj2 = las_json_dict"
   ]
  },
  {
   "cell_type": "markdown",
   "metadata": {},
   "source": [
    "Apparently the node magic does some weird thing that makes it cumbersome to overwrite variable names? or something? so for testing purposes I had to re-write the lj variable into something different that it hadn't seen before to get the function below to work, hence, lj3"
   ]
  },
  {
   "cell_type": "code",
   "execution_count": 63,
   "metadata": {},
   "outputs": [],
   "source": [
    "%%node\n",
    "delete lj"
   ]
  },
  {
   "cell_type": "markdown",
   "metadata": {},
   "source": [
    "#### THE fs to upload the json file doesn't work well for some reason in this setting, \n",
    "#### so switched to just grabbing the a json dict I made from the lassio json in string form\n",
    "#### I still used \"most\" of the read_json function"
   ]
  },
  {
   "cell_type": "code",
   "execution_count": 64,
   "metadata": {},
   "outputs": [
    {
     "name": "stdout",
     "output_type": "stream",
     "text": [
      "... ... ... ... ...\n",
      "... ..... ..... ... ..... ....... ....... ......... ......... ......... ......... ......... ......... ....... ..... ...\n"
     ]
    }
   ],
   "source": [
    "%%node\n",
    "\n",
    "\n",
    "    var lj3 = las_json_dict\n",
    "    std_headers = {\n",
    "      'Version': 'VERSION INFORMATION',\n",
    "      'Well': 'WELL INFORMATION BLOCK',\n",
    "      'Curves': 'CURVE INFORMATION BLOCK', \n",
    "      'Parameter': 'PARAMETER INFORMATION'\n",
    "    };\n",
    "\n",
    "    lasjson = {};\n",
    "    lasjson[\"VERSION INFORMATION\"] = {};\n",
    "    lasjson[\"WELL INFORMATION BLOCK\"] = {};\n",
    "    lasjson[\"CURVE INFORMATION BLOCK\"] = {};\n",
    "    lasjson[\"PARAMETER INFORMATION\"] = {};\n",
    "    lasjson[\"CURVES\"] = lj3.data;\n",
    "\n",
    "    for (item in lj3.metadata) {\n",
    "      if ( !(item in std_headers) ) {\n",
    "        lasjson[item.toUpperCase()] = lj3.metadata[item];\n",
    "      }\n",
    "      else {\n",
    "        for (var mnemonic in lj3.metadata[item]) {\n",
    "          section = std_headers[item];      \n",
    "          lasjson[section][mnemonic] = {\n",
    "            MNEM: mnemonic,\n",
    "            UNIT: '',\n",
    "            DATA: lj3.metadata[item][mnemonic],\n",
    "            'DESCRIPTION OF MNEMONIC 1': '',\n",
    "            'DESCRIPTION OF MNEMONIC 2': ''\n",
    "          };\n",
    "        }\n",
    "      }\n",
    "    }"
   ]
  },
  {
   "cell_type": "code",
   "execution_count": 65,
   "metadata": {},
   "outputs": [
    {
     "name": "stdout",
     "output_type": "stream",
     "text": [
      "{ 'VERSION INFORMATION':\n",
      "{ '0':\n",
      "{ MNEM: '0',\n",
      "UNIT: '',\n",
      "DATA: {},\n",
      "'DESCRIPTION OF MNEMONIC 1': '',\n",
      "'DESCRIPTION OF MNEMONIC 2': '' },\n",
      "'1':\n",
      "{ MNEM: '1',\n",
      "UNIT: '',\n",
      "DATA: {},\n",
      "'DESCRIPTION OF MNEMONIC 1': '',\n",
      "'DESCRIPTION OF MNEMONIC 2': '' },\n",
      "'2':\n",
      "{ MNEM: '2',\n",
      "UNIT: '',\n",
      "DATA: {},\n",
      "'DESCRIPTION OF MNEMONIC 1': '',\n",
      "'DESCRIPTION OF MNEMONIC 2': '' } },\n",
      "'WELL INFORMATION BLOCK':\n",
      "{ '0':\n",
      "{ MNEM: '0',\n",
      "UNIT: '',\n",
      "DATA: {},\n",
      "'DESCRIPTION OF MNEMONIC 1': '',\n",
      "'DESCRIPTION OF MNEMONIC 2': '' },\n",
      "'1':\n",
      "{ MNEM: '1',\n",
      "UNIT: '',\n",
      "DATA: {},\n",
      "'DESCRIPTION OF MNEMONIC 1': '',\n",
      "'DESCRIPTION OF MNEMONIC 2': '' },\n",
      "'2':\n",
      "{ MNEM: '2',\n",
      "UNIT: '',\n",
      "DATA: {},\n",
      "'DESCRIPTION OF MNEMONIC 1': '',\n",
      "'DESCRIPTION OF MNEMONIC 2': '' },\n",
      "'3':\n",
      "{ MNEM: '3',\n",
      "UNIT: '',\n",
      "DATA: {},\n",
      "'DESCRIPTION OF MNEMONIC 1': '',\n",
      "'DESCRIPTION OF MNEMONIC 2': '' },\n",
      "'4':\n",
      "{ MNEM: '4',\n",
      "UNIT: '',\n",
      "DATA: {},\n",
      "'DESCRIPTION OF MNEMONIC 1': '',\n",
      "'DESCRIPTION OF MNEMONIC 2': '' },\n",
      "'5':\n",
      "{ MNEM: '5',\n",
      "UNIT: '',\n",
      "DATA: {},\n",
      "'DESCRIPTION OF MNEMONIC 1': '',\n",
      "'DESCRIPTION OF MNEMONIC 2': '' },\n",
      "'6':\n",
      "{ MNEM: '6',\n",
      "UNIT: '',\n",
      "DATA: {},\n",
      "'DESCRIPTION OF MNEMONIC 1': '',\n",
      "'DESCRIPTION OF MNEMONIC 2': '' },\n",
      "'7':\n",
      "{ MNEM: '7',\n",
      "UNIT: '',\n",
      "DATA: {},\n",
      "'DESCRIPTION OF MNEMONIC 1': '',\n",
      "'DESCRIPTION OF MNEMONIC 2': '' },\n",
      "'8':\n",
      "{ MNEM: '8',\n",
      "UNIT: '',\n",
      "DATA: {},\n",
      "'DESCRIPTION OF MNEMONIC 1': '',\n",
      "'DESCRIPTION OF MNEMONIC 2': '' },\n",
      "'9':\n",
      "{ MNEM: '9',\n",
      "UNIT: '',\n",
      "DATA: {},\n",
      "'DESCRIPTION OF MNEMONIC 1': '',\n",
      "'DESCRIPTION OF MNEMONIC 2': '' },\n",
      "'10':\n",
      "{ MNEM: '10',\n",
      "UNIT: '',\n",
      "DATA: {},\n",
      "'DESCRIPTION OF MNEMONIC 1': '',\n",
      "'DESCRIPTION OF MNEMONIC 2': '' },\n",
      "'11':\n",
      "{ MNEM: '11',\n",
      "UNIT: '',\n",
      "DATA: {},\n",
      "'DESCRIPTION OF MNEMONIC 1': '',\n",
      "'DESCRIPTION OF MNEMONIC 2': '' },\n",
      "'12':\n",
      "{ MNEM: '12',\n",
      "UNIT: '',\n",
      "DATA: {},\n",
      "'DESCRIPTION OF MNEMONIC 1': '',\n",
      "'DESCRIPTION OF MNEMONIC 2': '' },\n",
      "'13':\n",
      "{ MNEM: '13',\n",
      "UNIT: '',\n",
      "DATA: {},\n",
      "'DESCRIPTION OF MNEMONIC 1': '',\n",
      "'DESCRIPTION OF MNEMONIC 2': '' },\n",
      "'14':\n",
      "{ MNEM: '14',\n",
      "UNIT: '',\n",
      "DATA: {},\n",
      "'DESCRIPTION OF MNEMONIC 1': '',\n",
      "'DESCRIPTION OF MNEMONIC 2': '' },\n",
      "'15':\n",
      "{ MNEM: '15',\n",
      "UNIT: '',\n",
      "DATA: {},\n",
      "'DESCRIPTION OF MNEMONIC 1': '',\n",
      "'DESCRIPTION OF MNEMONIC 2': '' } },\n",
      "'CURVE INFORMATION BLOCK':\n",
      "{ '0':\n",
      "{ MNEM: '0',\n",
      "UNIT: '',\n",
      "DATA: {},\n",
      "'DESCRIPTION OF MNEMONIC 1': '',\n",
      "'DESCRIPTION OF MNEMONIC 2': '' },\n",
      "'1':\n",
      "{ MNEM: '1',\n",
      "UNIT: '',\n",
      "DATA: {},\n",
      "'DESCRIPTION OF MNEMONIC 1': '',\n",
      "'DESCRIPTION OF MNEMONIC 2': '' } },\n",
      "'PARAMETER INFORMATION':\n",
      "{ '0':\n",
      "{ MNEM: '0',\n",
      "UNIT: '',\n",
      "DATA: {},\n",
      "'DESCRIPTION OF MNEMONIC 1': '',\n",
      "'DESCRIPTION OF MNEMONIC 2': '' },\n",
      "'1':\n",
      "{ MNEM: '1',\n",
      "UNIT: '',\n",
      "DATA: {},\n",
      "'DESCRIPTION OF MNEMONIC 1': '',\n",
      "'DESCRIPTION OF MNEMONIC 2': '' } },\n",
      "CURVES:\n",
      "{ DEPT:\n",
      "[ 10,\n",
      "10.5,\n",
      "11,\n",
      "11.5,\n",
      "12,\n",
      "12.5,\n",
      "13,\n",
      "13.5,\n",
      "14,\n",
      "14.5,\n",
      "15,\n",
      "15.5,\n",
      "16,\n",
      "16.5,\n",
      "17,\n",
      "17.5,\n",
      "18,\n",
      "18.5,\n",
      "19,\n",
      "19.5,\n",
      "20,\n",
      "20.5,\n",
      "21,\n",
      "21.5,\n",
      "22,\n",
      "22.5,\n",
      "23,\n",
      "23.5,\n",
      "24,\n",
      "24.5,\n",
      "25,\n",
      "25.5,\n",
      "26,\n",
      "26.5,\n",
      "27,\n",
      "27.5,\n",
      "28,\n",
      "28.5,\n",
      "29,\n",
      "29.5,\n",
      "30,\n",
      "30.5,\n",
      "31,\n",
      "31.5,\n",
      "32,\n",
      "32.5,\n",
      "33,\n",
      "33.5,\n",
      "34,\n",
      "34.5,\n",
      "35,\n",
      "35.5,\n",
      "36,\n",
      "36.5,\n",
      "37,\n",
      "37.5,\n",
      "38,\n",
      "38.5,\n",
      "39,\n",
      "39.5,\n",
      "40,\n",
      "40.5,\n",
      "41,\n",
      "41.5,\n",
      "42,\n",
      "42.5,\n",
      "43,\n",
      "43.5,\n",
      "44,\n",
      "44.5,\n",
      "45,\n",
      "45.5,\n",
      "46,\n",
      "46.5,\n",
      "47,\n",
      "47.5,\n",
      "48,\n",
      "48.5,\n",
      "49,\n",
      "49.5 ],\n",
      "SYNTH:\n",
      "[ NaN,\n",
      "NaN,\n",
      "NaN,\n",
      "NaN,\n",
      "NaN,\n",
      "NaN,\n",
      "NaN,\n",
      "NaN,\n",
      "6.341544096786395,\n",
      "6.567376614285353,\n",
      "6.245335149382308,\n",
      "6.448556279813931,\n",
      "6.671890205581146,\n",
      "6.241101400309921,\n",
      "6.981955840011141,\n",
      "6.646269547490197,\n",
      "6.790654415948515,\n",
      "6.6091616918326475,\n",
      "7.173010371410631,\n",
      "6.811622218230796,\n",
      "6.890465832172988,\n",
      "7.0535249846132855,\n",
      "7.361931891331566,\n",
      "6.693178378819868,\n",
      "7.605120367528102,\n",
      "7.732799573865176,\n",
      "7.40152344206533,\n",
      "7.163497594942044,\n",
      "7.306518362183579,\n",
      "7.400191123369227,\n",
      "7.751502570825318,\n",
      "7.58350508423466,\n",
      "8.062715135773072,\n",
      "7.768055151809783,\n",
      "7.676799260833338,\n",
      "7.329963161188244,\n",
      "7.823819152089372,\n",
      "7.307283495771522,\n",
      "7.575180644319641,\n",
      "7.968657820808859,\n",
      "8.367971800012315,\n",
      "8.099289114878758,\n",
      "8.393248592829496,\n",
      "7.711721141454515,\n",
      "8.281078491781527,\n",
      "8.399672509500993,\n",
      "8.197375942598493,\n",
      "7.829566613143262,\n",
      "8.331519290158933,\n",
      "8.299569899386182,\n",
      "7.790240700172967,\n",
      "8.07519112162724,\n",
      "8.617784299500965,\n",
      "7.845330674426478,\n",
      "7.979620932454858,\n",
      "8.48372992189894,\n",
      "8.34304852702582,\n",
      "7.99667437137958,\n",
      "8.697517773266298,\n",
      "8.452633426824365,\n",
      "8.84859917377995,\n",
      "9.00989950089456,\n",
      "8.076726800845867,\n",
      "8.502751635985858,\n",
      "9.010564606010067,\n",
      "8.241196492740615,\n",
      "8.61726814939012,\n",
      "9.136192060302577,\n",
      "8.738763055016003,\n",
      "8.24212513744557,\n",
      "8.375110724359176,\n",
      "8.345997038645743,\n",
      "8.907738235510235,\n",
      "8.856408484021149,\n",
      "9.263616442923768,\n",
      "8.668972602567166,\n",
      "8.596983317193759,\n",
      "8.688906571513861,\n",
      "8.518874031884112,\n",
      "8.99371428274461 ] },\n",
      "OTHER:\n",
      "'Example of how to create a LAS file from scratch using lasio' }\n"
     ]
    }
   ],
   "source": [
    "%%node\n",
    "console.log(lasjson)"
   ]
  },
  {
   "cell_type": "markdown",
   "metadata": {},
   "source": [
    "### and it works!"
   ]
  },
  {
   "cell_type": "markdown",
   "metadata": {},
   "source": [
    "## We should probably write two read LASIO json functions to separate the file system upload from the one that parses the dict... That way people can either (1) upload from JSON file in lasio style of JSON (2) start from lasio style json string (3) start from lasio style dict"
   ]
  },
  {
   "cell_type": "code",
   "execution_count": null,
   "metadata": {},
   "outputs": [],
   "source": []
  }
 ],
 "metadata": {
  "kernelspec": {
   "display_name": "Python [conda env:widget] *",
   "language": "python",
   "name": "conda-env-widget-py"
  },
  "language_info": {
   "codemirror_mode": {
    "name": "ipython",
    "version": 3
   },
   "file_extension": ".py",
   "mimetype": "text/x-python",
   "name": "python",
   "nbconvert_exporter": "python",
   "pygments_lexer": "ipython3",
   "version": "3.7.6"
  }
 },
 "nbformat": 4,
 "nbformat_minor": 4
}
