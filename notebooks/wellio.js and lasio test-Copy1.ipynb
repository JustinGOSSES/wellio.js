{
 "cells": [
  {
   "cell_type": "markdown",
   "metadata": {},
   "source": [
    "### Idea Working Towards:\n",
    "- Load well with LASIO\n",
    "- Export LASIO style JSON\n",
    "- CONVERT LASIO style JSON to WELLIO style JSON\n",
    "- Visualize with wellioviz"
   ]
  },
  {
   "cell_type": "code",
   "execution_count": 2,
   "metadata": {
    "scrolled": true
   },
   "outputs": [],
   "source": [
    "import json\n",
    "import lasio\n",
    "import numpy as np\n",
    "from datetime import datetime"
   ]
  },
  {
   "cell_type": "markdown",
   "metadata": {
    "raw_mimetype": "text/markdown"
   },
   "source": [
    "#### Pixiedust node module enables running Node.js code in Jupyter.\n",
    "https://github.com/pixiedust/pixiedust_node"
   ]
  },
  {
   "cell_type": "code",
   "execution_count": 3,
   "metadata": {},
   "outputs": [],
   "source": [
    "#!pip install --user --upgrade pixiedust"
   ]
  },
  {
   "cell_type": "code",
   "execution_count": 4,
   "metadata": {},
   "outputs": [],
   "source": [
    "#pip install pixiedust_node"
   ]
  },
  {
   "cell_type": "code",
   "execution_count": 5,
   "metadata": {},
   "outputs": [
    {
     "name": "stdout",
     "output_type": "stream",
     "text": [
      "Pixiedust database opened successfully\n"
     ]
    },
    {
     "data": {
      "text/html": [
       "\n",
       "        <div style=\"margin:10px\">\n",
       "            <a href=\"https://github.com/ibm-watson-data-lab/pixiedust\" target=\"_new\">\n",
       "                <img src=\"https://github.com/ibm-watson-data-lab/pixiedust/raw/master/docs/_static/pd_icon32.png\" style=\"float:left;margin-right:10px\"/>\n",
       "            </a>\n",
       "            <span>Pixiedust version 1.1.18</span>\n",
       "        </div>\n",
       "        "
      ],
      "text/plain": [
       "<IPython.core.display.HTML object>"
      ]
     },
     "metadata": {},
     "output_type": "display_data"
    },
    {
     "data": {
      "text/html": [
       "\n",
       "            <div style=\"margin:10px\"> \n",
       "            <a href=\"https://github.com/ibm-cds-labs/pixiedust_node\" target=\"_new\"> \n",
       "            <img src=\"https://github.com/ibm-cds-labs/pixiedust_node/raw/master/docs/_images/pdn_icon32.png\" style=\"float:left;margin-right:10px\"/> \n",
       "            </a> \n",
       "            <span>Pixiedust Node.js</span> \n",
       "            </div> \n"
      ],
      "text/plain": [
       "<IPython.core.display.HTML object>"
      ]
     },
     "metadata": {},
     "output_type": "display_data"
    },
    {
     "name": "stdout",
     "output_type": "stream",
     "text": [
      "pixiedust_node 0.2.5 started. Cells starting '%%node' may contain Node.js code.\n"
     ]
    }
   ],
   "source": [
    "import pixiedust_node"
   ]
  },
  {
   "cell_type": "code",
   "execution_count": 6,
   "metadata": {},
   "outputs": [
    {
     "name": "stdout",
     "output_type": "stream",
     "text": [
      "\"2020-04-06T03:29:47.671Z\"\n"
     ]
    }
   ],
   "source": [
    "%%node\n",
    "print(new Date());"
   ]
  },
  {
   "cell_type": "code",
   "execution_count": 7,
   "metadata": {},
   "outputs": [],
   "source": [
    "#npm.install('wellio')"
   ]
  },
  {
   "cell_type": "code",
   "execution_count": 8,
   "metadata": {},
   "outputs": [],
   "source": [
    "#npm.install('wellioviz')"
   ]
  },
  {
   "cell_type": "code",
   "execution_count": 9,
   "metadata": {},
   "outputs": [
    {
     "name": "stdout",
     "output_type": "stream",
     "text": [
      "/Users/justingosses/node/node_modules/wellioviz/dist/index.js:1305\n",
      "catch{\n",
      "^\n",
      "SyntaxError: Unexpected token {\n"
     ]
    }
   ],
   "source": [
    "%%node\n",
    "const wellio = require('wellio');\n",
    "const wellioviz = require('wellioviz')"
   ]
  },
  {
   "cell_type": "markdown",
   "metadata": {},
   "source": [
    "#### Create a las file via lasio and translate it to json."
   ]
  },
  {
   "cell_type": "code",
   "execution_count": 10,
   "metadata": {},
   "outputs": [],
   "source": [
    "las = lasio.LASFile()\n",
    "\n",
    "las.well.DATE = datetime.today().strftime('%Y-%m-%d %H:%M:%S')\n",
    "las.params['ENG'] = lasio.HeaderItem('ENG', value='Kent Inverarity')\n",
    "las.params['LMF'] = lasio.HeaderItem('LMF', value='GL')\n",
    "las.other = 'Example of how to create a LAS file from scratch using lasio'\n",
    "depths = np.arange(10, 50, 0.5)\n",
    "synth = np.log10(depths)*5+np.random.random(len(depths))\n",
    "synth[:8] = np.nan\n",
    "las.add_curve('DEPT', depths, unit='m')\n",
    "las.add_curve('SYNTH', synth, descr='fake data')\n",
    "las.write('scratch_v2.las', version=2)\n",
    "json_images = json.dumps(las, cls=lasio.JSONEncoder)"
   ]
  },
  {
   "cell_type": "code",
   "execution_count": 11,
   "metadata": {},
   "outputs": [
    {
     "data": {
      "text/plain": [
       "'{\"metadata\": {\"Version\": [{}, {}, {}], \"Well\": [{}, {}, {}, {}, {}, {}, {}, {}, {}, {}, {}, {}, {}, {}, {}, {}], \"Curves\": [{}, {}], \"Parameter\": [{}, {}], \"Other\": \"Example of how to create a LAS file from scratch using lasio\"}, \"data\": {\"DEPT\": [10.0, 10.5, 11.0, 11.5, 12.0, 12.5, 13.0, 13.5, 14.0, 14.5, 15.0, 15.5, 16.0, 16.5, 17.0, 17.5, 18.0, 18.5, 19.0, 19.5, 20.0, 20.5, 21.0, 21.5, 22.0, 22.5, 23.0, 23.5, 24.0, 24.5, 25.0, 25.5, 26.0, 26.5, 27.0, 27.5, 28.0, 28.5, 29.0, 29.5, 30.0, 30.5, 31.0, 31.5, 32.0, 32.5, 33.0, 33.5, 34.0, 34.5, 35.0, 35.5, 36.0, 36.5, 37.0, 37.5, 38.0, 38.5, 39.0, 39.5, 40.0, 40.5, 41.0, 41.5, 42.0, 42.5, 43.0, 43.5, 44.0, 44.5, 45.0, 45.5, 46.0, 46.5, 47.0, 47.5, 48.0, 48.5, 49.0, 49.5], \"SYNTH\": [NaN, NaN, NaN, NaN, NaN, NaN, NaN, NaN, 5.860694659271342, 5.815507220824607, 5.904074080203545, 6.470890729775049, 6.459584428976329, 6.983019569376653, 6.4584940528487795, 6.4943426064776215, 6.808953113704513, 7.300240577185528, 6.504384745169876, 6.72745818121267, 6.885667845801629, 7.261822494691739, 7.076510146790913, 7.6398667669247065, 7.5451654623788045, 7.173371187657205, 6.831238043590048, 7.531711493537182, 7.649117960305546, 7.571104228153066, 7.86038633568543, 7.444547197487772, 7.488554690039735, 7.583643040226984, 8.108819745176051, 7.638194970604202, 7.759243757530744, 7.808116610931606, 7.651574609421536, 7.791358136479608, 7.990501353966637, 8.235853734779408, 7.746138806108555, 8.127977926280854, 7.970168247231731, 7.755146208744987, 8.327917547330332, 7.938351532752526, 8.179581733333674, 7.92164187943845, 8.193647429077355, 8.366218091897093, 8.357242577396974, 8.64983966111469, 8.352115317006339, 7.9972231328213255, 8.378181166759267, 8.151465972052208, 8.072008954451897, 8.404844724403443, 8.59615194544283, 9.013183444388321, 8.646331613110094, 8.188465980643267, 8.823104059060453, 8.678034233244016, 8.855934657274071, 8.53276573144802, 8.49456199306157, 8.74067831258817, 9.158121808058214, 8.418596799484169, 8.937746846239945, 8.835427983637427, 8.758321478431396, 8.52246148759993, 8.991366965333937, 8.973402680305153, 9.047119001641232, 8.474567116483817]}}'"
      ]
     },
     "execution_count": 11,
     "metadata": {},
     "output_type": "execute_result"
    }
   ],
   "source": [
    "json_images"
   ]
  },
  {
   "cell_type": "code",
   "execution_count": 14,
   "metadata": {},
   "outputs": [],
   "source": [
    "json_images = '{\"metadata\": {\"Version\": [{}, {}, {}], \"Well\": [{}, {}, {}, {}, {}, {}, {}, {}, {}, {}, {}, {}, {}, {}, {}, {}], \"Curves\": [{}, {}], \"Parameter\": [{}, {}], \"Other\": \"Example of how to create a LAS file from scratch using lasio\"}, \"data\": {\"DEPT\": [10.0, 10.5, 11.0, 11.5, 12.0, 12.5, 13.0, 13.5, 14.0, 14.5, 15.0, 15.5, 16.0, 16.5, 17.0, 17.5, 18.0, 18.5, 19.0, 19.5, 20.0, 20.5, 21.0, 21.5, 22.0, 22.5, 23.0, 23.5, 24.0, 24.5, 25.0, 25.5, 26.0, 26.5, 27.0, 27.5, 28.0, 28.5, 29.0, 29.5, 30.0, 30.5, 31.0, 31.5, 32.0, 32.5, 33.0, 33.5, 34.0, 34.5, 35.0, 35.5, 36.0, 36.5, 37.0, 37.5, 38.0, 38.5, 39.0, 39.5, 40.0, 40.5, 41.0, 41.5, 42.0, 42.5, 43.0, 43.5, 44.0, 44.5, 45.0, 45.5, 46.0, 46.5, 47.0, 47.5, 48.0, 48.5, 49.0, 49.5], \"SYNTH\": [6.234635495091764, 5.822705908206885, 5.892438835480164, 6.360112207716471, 6.984174769878971, 6.6624805544419665, 6.331134650524358, 6.255482720944198, 6.528017427871602, 7.133131771882717, 7.363338221117437, 7.018206476113091, 6.7682158909950925, 7.509726967564959, 6.9692400054338535, 7.220872638192882, 7.705107745639287, 7.02070264429298, 6.967231211559277, 7.609585329881265, 7.047385016880781, 7.734285286243311, 7.310202888805248, 7.228161380966759, 7.94773884791706, 7.638391279153226, 8.020651980440395, 7.508845624661398, 7.947420326846159, 7.300627929089977, 7.738907129012527, 7.413447414254969, 7.607951947562549, 7.85862003623288, 7.6086193572562175, 8.413838231695062, 8.261940521199845, 8.49992491035121, 8.192979258576594, 8.008578511396616, 8.074177020316109, 8.571461587308171, 7.930366755684586, 8.207967584572486, 8.709541482345319, 8.375708505023262, 8.22893885262006, 8.122509508869792, 7.999644964788505, 8.284216842964314, 8.117517512770583, 8.440255389261125, 8.285436978285867, 8.038086330215473, 8.791414334271616, 8.333431492709625, 9.06583869536129, 8.306784101003226, 8.51034865640589, 8.60208286693494, 8.598191345054127, 8.86124916791897, 8.944322244801759, 8.524708842130188, 9.115724350220148, 9.189881352338285, 8.890963372016614, 8.663079703166431, 9.369115793384044, 8.750259931496599, 9.074227592651733, 9.08678065089236]}}'"
   ]
  },
  {
   "cell_type": "markdown",
   "metadata": {},
   "source": [
    "#### Example 1: Read the in-memory Lasio json string into Wellio json"
   ]
  },
  {
   "cell_type": "code",
   "execution_count": 16,
   "metadata": {},
   "outputs": [
    {
     "name": "stdout",
     "output_type": "stream",
     "text": [
      "... ... ... ... ... ... ...\n",
      "{ 'VERSION INFORMATION':\n",
      "{ '0':\n",
      "{ MNEM: '0',\n",
      "UNIT: '',\n",
      "DATA: {},\n",
      "'DESCRIPTION OF MNEMONIC 1': '',\n",
      "'DESCRIPTION OF MNEMONIC 2': '' },\n",
      "'1':\n",
      "{ MNEM: '1',\n",
      "UNIT: '',\n",
      "DATA: {},\n",
      "'DESCRIPTION OF MNEMONIC 1': '',\n",
      "'DESCRIPTION OF MNEMONIC 2': '' },\n",
      "'2':\n",
      "{ MNEM: '2',\n",
      "UNIT: '',\n",
      "DATA: {},\n",
      "'DESCRIPTION OF MNEMONIC 1': '',\n",
      "'DESCRIPTION OF MNEMONIC 2': '' } },\n",
      "'WELL INFORMATION BLOCK':\n",
      "{ '0':\n",
      "{ MNEM: '0',\n",
      "UNIT: '',\n",
      "DATA: {},\n",
      "'DESCRIPTION OF MNEMONIC 1': '',\n",
      "'DESCRIPTION OF MNEMONIC 2': '' },\n",
      "'1':\n",
      "{ MNEM: '1',\n",
      "UNIT: '',\n",
      "DATA: {},\n",
      "'DESCRIPTION OF MNEMONIC 1': '',\n",
      "'DESCRIPTION OF MNEMONIC 2': '' },\n",
      "'2':\n",
      "{ MNEM: '2',\n",
      "UNIT: '',\n",
      "DATA: {},\n",
      "'DESCRIPTION OF MNEMONIC 1': '',\n",
      "'DESCRIPTION OF MNEMONIC 2': '' },\n",
      "'3':\n",
      "{ MNEM: '3',\n",
      "UNIT: '',\n",
      "DATA: {},\n",
      "'DESCRIPTION OF MNEMONIC 1': '',\n",
      "'DESCRIPTION OF MNEMONIC 2': '' },\n",
      "'4':\n",
      "{ MNEM: '4',\n",
      "UNIT: '',\n",
      "DATA: {},\n",
      "'DESCRIPTION OF MNEMONIC 1': '',\n",
      "'DESCRIPTION OF MNEMONIC 2': '' },\n",
      "'5':\n",
      "{ MNEM: '5',\n",
      "UNIT: '',\n",
      "DATA: {},\n",
      "'DESCRIPTION OF MNEMONIC 1': '',\n",
      "'DESCRIPTION OF MNEMONIC 2': '' },\n",
      "'6':\n",
      "{ MNEM: '6',\n",
      "UNIT: '',\n",
      "DATA: {},\n",
      "'DESCRIPTION OF MNEMONIC 1': '',\n",
      "'DESCRIPTION OF MNEMONIC 2': '' },\n",
      "'7':\n",
      "{ MNEM: '7',\n",
      "UNIT: '',\n",
      "DATA: {},\n",
      "'DESCRIPTION OF MNEMONIC 1': '',\n",
      "'DESCRIPTION OF MNEMONIC 2': '' },\n",
      "'8':\n",
      "{ MNEM: '8',\n",
      "UNIT: '',\n",
      "DATA: {},\n",
      "'DESCRIPTION OF MNEMONIC 1': '',\n",
      "'DESCRIPTION OF MNEMONIC 2': '' },\n",
      "'9':\n",
      "{ MNEM: '9',\n",
      "UNIT: '',\n",
      "DATA: {},\n",
      "'DESCRIPTION OF MNEMONIC 1': '',\n",
      "'DESCRIPTION OF MNEMONIC 2': '' },\n",
      "'10':\n",
      "{ MNEM: '10',\n",
      "UNIT: '',\n",
      "DATA: {},\n",
      "'DESCRIPTION OF MNEMONIC 1': '',\n",
      "'DESCRIPTION OF MNEMONIC 2': '' },\n",
      "'11':\n",
      "{ MNEM: '11',\n",
      "UNIT: '',\n",
      "DATA: {},\n",
      "'DESCRIPTION OF MNEMONIC 1': '',\n",
      "'DESCRIPTION OF MNEMONIC 2': '' },\n",
      "'12':\n",
      "{ MNEM: '12',\n",
      "UNIT: '',\n",
      "DATA: {},\n",
      "'DESCRIPTION OF MNEMONIC 1': '',\n",
      "'DESCRIPTION OF MNEMONIC 2': '' },\n",
      "'13':\n",
      "{ MNEM: '13',\n",
      "UNIT: '',\n",
      "DATA: {},\n",
      "'DESCRIPTION OF MNEMONIC 1': '',\n",
      "'DESCRIPTION OF MNEMONIC 2': '' },\n",
      "'14':\n",
      "{ MNEM: '14',\n",
      "UNIT: '',\n",
      "DATA: {},\n",
      "'DESCRIPTION OF MNEMONIC 1': '',\n",
      "'DESCRIPTION OF MNEMONIC 2': '' },\n",
      "'15':\n",
      "{ MNEM: '15',\n",
      "UNIT: '',\n",
      "DATA: {},\n",
      "'DESCRIPTION OF MNEMONIC 1': '',\n",
      "'DESCRIPTION OF MNEMONIC 2': '' } },\n",
      "'CURVE INFORMATION BLOCK':\n",
      "{ '0':\n",
      "{ MNEM: '0',\n",
      "UNIT: '',\n",
      "DATA: {},\n",
      "'DESCRIPTION OF MNEMONIC 1': '',\n",
      "'DESCRIPTION OF MNEMONIC 2': '' },\n",
      "'1':\n",
      "{ MNEM: '1',\n",
      "UNIT: '',\n",
      "DATA: {},\n",
      "'DESCRIPTION OF MNEMONIC 1': '',\n",
      "'DESCRIPTION OF MNEMONIC 2': '' } },\n",
      "'PARAMETER INFORMATION':\n",
      "{ '0':\n",
      "{ MNEM: '0',\n",
      "UNIT: '',\n",
      "DATA: {},\n",
      "'DESCRIPTION OF MNEMONIC 1': '',\n",
      "'DESCRIPTION OF MNEMONIC 2': '' },\n",
      "'1':\n",
      "{ MNEM: '1',\n",
      "UNIT: '',\n",
      "DATA: {},\n",
      "'DESCRIPTION OF MNEMONIC 1': '',\n",
      "'DESCRIPTION OF MNEMONIC 2': '' } },\n",
      "CURVES:\n",
      "{ DEPT:\n",
      "[ 10,\n",
      "10.5,\n",
      "11,\n",
      "11.5,\n",
      "12,\n",
      "12.5,\n",
      "13,\n",
      "13.5,\n",
      "14,\n",
      "14.5,\n",
      "15,\n",
      "15.5,\n",
      "16,\n",
      "16.5,\n",
      "17,\n",
      "17.5,\n",
      "18,\n",
      "18.5,\n",
      "19,\n",
      "19.5,\n",
      "20,\n",
      "20.5,\n",
      "21,\n",
      "21.5,\n",
      "22,\n",
      "22.5,\n",
      "23,\n",
      "23.5,\n",
      "24,\n",
      "24.5,\n",
      "25,\n",
      "25.5,\n",
      "26,\n",
      "26.5,\n",
      "27,\n",
      "27.5,\n",
      "28,\n",
      "28.5,\n",
      "29,\n",
      "29.5,\n",
      "30,\n",
      "30.5,\n",
      "31,\n",
      "31.5,\n",
      "32,\n",
      "32.5,\n",
      "33,\n",
      "33.5,\n",
      "34,\n",
      "34.5,\n",
      "35,\n",
      "35.5,\n",
      "36,\n",
      "36.5,\n",
      "37,\n",
      "37.5,\n",
      "38,\n",
      "38.5,\n",
      "39,\n",
      "39.5,\n",
      "40,\n",
      "40.5,\n",
      "41,\n",
      "41.5,\n",
      "42,\n",
      "42.5,\n",
      "43,\n",
      "43.5,\n",
      "44,\n",
      "44.5,\n",
      "45,\n",
      "45.5,\n",
      "46,\n",
      "46.5,\n",
      "47,\n",
      "47.5,\n",
      "48,\n",
      "48.5,\n",
      "49,\n",
      "49.5 ],\n",
      "SYNTH:\n",
      "[ 6.234635495091764,\n",
      "5.822705908206885,\n",
      "5.892438835480164,\n",
      "6.360112207716471,\n",
      "6.984174769878971,\n",
      "6.6624805544419665,\n",
      "6.331134650524358,\n",
      "6.255482720944198,\n",
      "6.528017427871602,\n",
      "7.133131771882717,\n",
      "7.363338221117437,\n",
      "7.018206476113091,\n",
      "6.7682158909950925,\n",
      "7.509726967564959,\n",
      "6.9692400054338535,\n",
      "7.220872638192882,\n",
      "7.705107745639287,\n",
      "7.02070264429298,\n",
      "6.967231211559277,\n",
      "7.609585329881265,\n",
      "7.047385016880781,\n",
      "7.734285286243311,\n",
      "7.310202888805248,\n",
      "7.228161380966759,\n",
      "7.94773884791706,\n",
      "7.638391279153226,\n",
      "8.020651980440395,\n",
      "7.508845624661398,\n",
      "7.947420326846159,\n",
      "7.300627929089977,\n",
      "7.738907129012527,\n",
      "7.413447414254969,\n",
      "7.607951947562549,\n",
      "7.85862003623288,\n",
      "7.6086193572562175,\n",
      "8.413838231695062,\n",
      "8.261940521199845,\n",
      "8.49992491035121,\n",
      "8.192979258576594,\n",
      "8.008578511396616,\n",
      "8.074177020316109,\n",
      "8.571461587308171,\n",
      "7.930366755684586,\n",
      "8.207967584572486,\n",
      "8.709541482345319,\n",
      "8.375708505023262,\n",
      "8.22893885262006,\n",
      "8.122509508869792,\n",
      "7.999644964788505,\n",
      "8.284216842964314,\n",
      "8.117517512770583,\n",
      "8.440255389261125,\n",
      "8.285436978285867,\n",
      "8.038086330215473,\n",
      "8.791414334271616,\n",
      "8.333431492709625,\n",
      "9.06583869536129,\n",
      "8.306784101003226,\n",
      "8.51034865640589,\n",
      "8.60208286693494,\n",
      "8.598191345054127,\n",
      "8.86124916791897,\n",
      "8.944322244801759,\n",
      "8.524708842130188,\n",
      "9.115724350220148,\n",
      "9.189881352338285,\n",
      "8.890963372016614,\n",
      "8.663079703166431,\n",
      "9.369115793384044,\n",
      "8.750259931496599,\n",
      "9.074227592651733,\n",
      "9.08678065089236 ] },\n",
      "OTHER: 'Example of how to create a LAS file from scratch using lasio' }\n"
     ]
    }
   ],
   "source": [
    "%%node\n",
    "\n",
    "let lasio_obj2 = '';\n",
    "let wellio_obj2 = '';\n",
    "\n",
    "try {\n",
    "    lasio_obj2 = JSON.parse(json_images);\n",
    "    wellio_obj2 = wellio.lasio_obj_2_wellio_obj(lasio_obj2);\n",
    "} catch (e) {\n",
    "    console.log('[');\n",
    "    console.log(e.name + \":: \" + e.message);\n",
    "    console.log(']');\n",
    "}\n",
    "\n",
    "console.log(wellio_obj2);\n",
    "\n"
   ]
  },
  {
   "cell_type": "markdown",
   "metadata": {},
   "source": [
    "#### Introduce wellioviz and pass the wellio_obj to wellioviz"
   ]
  },
  {
   "cell_type": "code",
   "execution_count": 17,
   "metadata": {},
   "outputs": [
    {
     "name": "stdout",
     "output_type": "stream",
     "text": [
      "ReferenceError: wellioviz is not defined\n",
      "at repl:1:13\n",
      "at ContextifyScript.Script.runInContext (vm.js:53:29)\n",
      "at REPLServer.defaultEval (repl.js:241:29)\n",
      "at bound (domain.js:301:14)\n",
      "at REPLServer.runBound [as eval] (domain.js:314:12)\n",
      "at REPLServer.onLine (repl.js:433:10)\n",
      "at emitOne (events.js:115:13)\n",
      "at REPLServer.emit (events.js:210:7)\n",
      "at REPLServer.Interface._onLine (readline.js:278:10)\n",
      "at REPLServer.Interface._normalWrite (readline.js:419:12)\n"
     ]
    }
   ],
   "source": [
    "%%node\n",
    "console.log(wellioviz.define_wellioviz());"
   ]
  },
  {
   "cell_type": "code",
   "execution_count": 18,
   "metadata": {
    "scrolled": false
   },
   "outputs": [
    {
     "name": "stdout",
     "output_type": "stream",
     "text": [
      "ReferenceError: wellioviz is not defined\n",
      "at repl:1:20\n",
      "at ContextifyScript.Script.runInContext (vm.js:53:29)\n",
      "at REPLServer.defaultEval (repl.js:241:29)\n",
      "at bound (domain.js:301:14)\n",
      "at REPLServer.runBound [as eval] (domain.js:314:12)\n",
      "at REPLServer.onLine (repl.js:433:10)\n",
      "at emitOne (events.js:115:13)\n",
      "at REPLServer.emit (events.js:210:7)\n",
      "at REPLServer.Interface._onLine (readline.js:278:10)\n",
      "at REPLServer.Interface._normalWrite (readline.js:419:12)\n",
      "ReferenceError: three_things is not defined\n",
      "at repl:1:13\n",
      "at ContextifyScript.Script.runInContext (vm.js:53:29)\n",
      "at REPLServer.defaultEval (repl.js:241:29)\n",
      "at bound (domain.js:301:14)\n",
      "at REPLServer.runBound [as eval] (domain.js:314:12)\n",
      "at REPLServer.onLine (repl.js:433:10)\n",
      "at emitOne (events.js:115:13)\n",
      "at REPLServer.emit (events.js:210:7)\n",
      "at REPLServer.Interface._onLine (readline.js:278:10)\n",
      "at REPLServer.Interface._normalWrite (readline.js:419:12)\n"
     ]
    }
   ],
   "source": [
    "%%node\n",
    "let three_things = wellioviz.fromJSONofWEllGetThingsForPlotting(wellio_obj,\"DEPT\");\n",
    "console.log(three_things);"
   ]
  },
  {
   "cell_type": "markdown",
   "metadata": {
    "raw_mimetype": "text/markdown"
   },
   "source": [
    "#### Example 2: Write Lasio json to file, then get current path and read the created json file into wellio json"
   ]
  },
  {
   "cell_type": "code",
   "execution_count": null,
   "metadata": {},
   "outputs": [],
   "source": [
    "las_json_dict =json.loads(json_images)\n",
    "with open('data.json', 'w') as outfile:\n",
    "    json.dump(las_json_dict, outfile)"
   ]
  },
  {
   "cell_type": "code",
   "execution_count": null,
   "metadata": {
    "scrolled": false
   },
   "outputs": [],
   "source": [
    "%%node\n",
    "const path = require('path');\n",
    "let mydir = process.env.PWD;\n",
    "let myfile = mydir + path.sep + 'data.json';\n",
    "\n",
    "let lasio_json_str = '';\n",
    "let lasio_obj_2 = '';\n",
    "let wellio_obj_2 = '';\n",
    "\n",
    "try {\n",
    "    lasio_json_str = wellio.read_lasio_json_file(myfile);\n",
    "    lasio_obj_2 = JSON.parse(lasio_json_str);\n",
    "    wellio_obj_2 = wellio.lasio_obj_2_wellio_obj(lasio_obj_2);\n",
    "} catch (e) {\n",
    "    console.log('[');\n",
    "    console.log(e.name + \":: \" + e.message);\n",
    "    console.log(']');\n",
    "}\n",
    "\n",
    "console.log(wellio_obj_2);\n"
   ]
  },
  {
   "cell_type": "markdown",
   "metadata": {},
   "source": [
    "#### Example 3: Read created Lasio Las file"
   ]
  },
  {
   "cell_type": "code",
   "execution_count": null,
   "metadata": {},
   "outputs": [],
   "source": [
    "%%node\n",
    "three_things_2 = wellioviz.fromJSONofWEllGetThingsForPlotting(wellio_obj,\"DEPT\");\n",
    "console.log(three_things_2);"
   ]
  },
  {
   "cell_type": "code",
   "execution_count": null,
   "metadata": {},
   "outputs": [],
   "source": [
    "%%node\n",
    "const path = require('path');\n",
    "let mydir_3 = process.env.PWD;\n",
    "let myfile_3 = mydir + path.sep + 'scratch_v2.las';\n",
    "\n",
    "let las_str_3 = '';\n",
    "let wellio_obj_3 = '';\n",
    "\n",
    "try {\n",
    "    las_str_3 = wellio.loadLAS(myfile_3);\n",
    "\n",
    "    wellio_obj_3 = wellio.las2json(las_str_3);\n",
    "} catch (e) {\n",
    "    console.log('[');\n",
    "    console.log(e.name + \":: \" + e.message);\n",
    "    console.log(']');\n",
    "}\n",
    "\n",
    "console.log(wellio_obj_3);\n",
    "\n"
   ]
  },
  {
   "cell_type": "code",
   "execution_count": null,
   "metadata": {},
   "outputs": [],
   "source": [
    "%%node\n",
    "three_things_3 = wellioviz.fromJSONofWEllGetThingsForPlotting(wellio_obj,\"DEPT\");\n",
    "console.log(three_things_3);"
   ]
  }
 ],
 "metadata": {
  "celltoolbar": "Raw Cell Format",
  "kernelspec": {
   "display_name": "Python 3",
   "language": "python",
   "name": "python3"
  },
  "language_info": {
   "codemirror_mode": {
    "name": "ipython",
    "version": 3
   },
   "file_extension": ".py",
   "mimetype": "text/x-python",
   "name": "python",
   "nbconvert_exporter": "python",
   "pygments_lexer": "ipython3",
   "version": "3.7.5"
  }
 },
 "nbformat": 4,
 "nbformat_minor": 4
}
